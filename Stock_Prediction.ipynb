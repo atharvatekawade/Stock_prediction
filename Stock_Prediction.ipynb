{
  "nbformat": 4,
  "nbformat_minor": 0,
  "metadata": {
    "colab": {
      "name": "Stock_Prediction.ipynb",
      "provenance": []
    },
    "kernelspec": {
      "name": "python3",
      "display_name": "Python 3"
    },
    "language_info": {
      "name": "python"
    }
  },
  "cells": [
    {
      "cell_type": "code",
      "metadata": {
        "id": "T5vnAvZpTmaC"
      },
      "source": [
        "import pandas as pd"
      ],
      "execution_count": 1,
      "outputs": []
    },
    {
      "cell_type": "code",
      "metadata": {
        "id": "-MNRtSTxTzU3"
      },
      "source": [
        "df=pd.read_csv('AAPL.csv')"
      ],
      "execution_count": 2,
      "outputs": []
    },
    {
      "cell_type": "code",
      "metadata": {
        "colab": {
          "base_uri": "https://localhost:8080/",
          "height": 204
        },
        "id": "RcsHYbW_T4HW",
        "outputId": "10c4045d-9e9a-4a7f-d61f-2184640c99be"
      },
      "source": [
        "df.head()"
      ],
      "execution_count": 3,
      "outputs": [
        {
          "output_type": "execute_result",
          "data": {
            "text/html": [
              "<div>\n",
              "<style scoped>\n",
              "    .dataframe tbody tr th:only-of-type {\n",
              "        vertical-align: middle;\n",
              "    }\n",
              "\n",
              "    .dataframe tbody tr th {\n",
              "        vertical-align: top;\n",
              "    }\n",
              "\n",
              "    .dataframe thead th {\n",
              "        text-align: right;\n",
              "    }\n",
              "</style>\n",
              "<table border=\"1\" class=\"dataframe\">\n",
              "  <thead>\n",
              "    <tr style=\"text-align: right;\">\n",
              "      <th></th>\n",
              "      <th>Unnamed: 0</th>\n",
              "      <th>symbol</th>\n",
              "      <th>date</th>\n",
              "      <th>close</th>\n",
              "      <th>high</th>\n",
              "      <th>low</th>\n",
              "      <th>open</th>\n",
              "      <th>volume</th>\n",
              "      <th>adjClose</th>\n",
              "      <th>adjHigh</th>\n",
              "      <th>adjLow</th>\n",
              "      <th>adjOpen</th>\n",
              "      <th>adjVolume</th>\n",
              "      <th>divCash</th>\n",
              "      <th>splitFactor</th>\n",
              "    </tr>\n",
              "  </thead>\n",
              "  <tbody>\n",
              "    <tr>\n",
              "      <th>0</th>\n",
              "      <td>0</td>\n",
              "      <td>AAPL</td>\n",
              "      <td>2015-05-27 00:00:00+00:00</td>\n",
              "      <td>132.045</td>\n",
              "      <td>132.260</td>\n",
              "      <td>130.05</td>\n",
              "      <td>130.34</td>\n",
              "      <td>45833246</td>\n",
              "      <td>121.682558</td>\n",
              "      <td>121.880685</td>\n",
              "      <td>119.844118</td>\n",
              "      <td>120.111360</td>\n",
              "      <td>45833246</td>\n",
              "      <td>0.0</td>\n",
              "      <td>1.0</td>\n",
              "    </tr>\n",
              "    <tr>\n",
              "      <th>1</th>\n",
              "      <td>1</td>\n",
              "      <td>AAPL</td>\n",
              "      <td>2015-05-28 00:00:00+00:00</td>\n",
              "      <td>131.780</td>\n",
              "      <td>131.950</td>\n",
              "      <td>131.10</td>\n",
              "      <td>131.86</td>\n",
              "      <td>30733309</td>\n",
              "      <td>121.438354</td>\n",
              "      <td>121.595013</td>\n",
              "      <td>120.811718</td>\n",
              "      <td>121.512076</td>\n",
              "      <td>30733309</td>\n",
              "      <td>0.0</td>\n",
              "      <td>1.0</td>\n",
              "    </tr>\n",
              "    <tr>\n",
              "      <th>2</th>\n",
              "      <td>2</td>\n",
              "      <td>AAPL</td>\n",
              "      <td>2015-05-29 00:00:00+00:00</td>\n",
              "      <td>130.280</td>\n",
              "      <td>131.450</td>\n",
              "      <td>129.90</td>\n",
              "      <td>131.23</td>\n",
              "      <td>50884452</td>\n",
              "      <td>120.056069</td>\n",
              "      <td>121.134251</td>\n",
              "      <td>119.705890</td>\n",
              "      <td>120.931516</td>\n",
              "      <td>50884452</td>\n",
              "      <td>0.0</td>\n",
              "      <td>1.0</td>\n",
              "    </tr>\n",
              "    <tr>\n",
              "      <th>3</th>\n",
              "      <td>3</td>\n",
              "      <td>AAPL</td>\n",
              "      <td>2015-06-01 00:00:00+00:00</td>\n",
              "      <td>130.535</td>\n",
              "      <td>131.390</td>\n",
              "      <td>130.05</td>\n",
              "      <td>131.20</td>\n",
              "      <td>32112797</td>\n",
              "      <td>120.291057</td>\n",
              "      <td>121.078960</td>\n",
              "      <td>119.844118</td>\n",
              "      <td>120.903870</td>\n",
              "      <td>32112797</td>\n",
              "      <td>0.0</td>\n",
              "      <td>1.0</td>\n",
              "    </tr>\n",
              "    <tr>\n",
              "      <th>4</th>\n",
              "      <td>4</td>\n",
              "      <td>AAPL</td>\n",
              "      <td>2015-06-02 00:00:00+00:00</td>\n",
              "      <td>129.960</td>\n",
              "      <td>130.655</td>\n",
              "      <td>129.32</td>\n",
              "      <td>129.86</td>\n",
              "      <td>33667627</td>\n",
              "      <td>119.761181</td>\n",
              "      <td>120.401640</td>\n",
              "      <td>119.171406</td>\n",
              "      <td>119.669029</td>\n",
              "      <td>33667627</td>\n",
              "      <td>0.0</td>\n",
              "      <td>1.0</td>\n",
              "    </tr>\n",
              "  </tbody>\n",
              "</table>\n",
              "</div>"
            ],
            "text/plain": [
              "   Unnamed: 0 symbol  ... divCash  splitFactor\n",
              "0           0   AAPL  ...     0.0          1.0\n",
              "1           1   AAPL  ...     0.0          1.0\n",
              "2           2   AAPL  ...     0.0          1.0\n",
              "3           3   AAPL  ...     0.0          1.0\n",
              "4           4   AAPL  ...     0.0          1.0\n",
              "\n",
              "[5 rows x 15 columns]"
            ]
          },
          "metadata": {
            "tags": []
          },
          "execution_count": 3
        }
      ]
    },
    {
      "cell_type": "code",
      "metadata": {
        "id": "SN7joPu0T5v5"
      },
      "source": [
        "df1=df.reset_index()['close']"
      ],
      "execution_count": 4,
      "outputs": []
    },
    {
      "cell_type": "code",
      "metadata": {
        "id": "0-aZxepbUg42"
      },
      "source": [
        "import matplotlib.pyplot as plt"
      ],
      "execution_count": 7,
      "outputs": []
    },
    {
      "cell_type": "code",
      "metadata": {
        "colab": {
          "base_uri": "https://localhost:8080/",
          "height": 282
        },
        "id": "Q6fFgbiPUv5d",
        "outputId": "29a5de72-634a-4975-ede0-f4c55b1b89c1"
      },
      "source": [
        "plt.plot(df1)"
      ],
      "execution_count": 8,
      "outputs": [
        {
          "output_type": "execute_result",
          "data": {
            "text/plain": [
              "[<matplotlib.lines.Line2D at 0x7fb856728450>]"
            ]
          },
          "metadata": {
            "tags": []
          },
          "execution_count": 8
        },
        {
          "output_type": "display_data",
          "data": {
            "image/png": "[encoded data removed]",
            "text/plain": [
              "<Figure size 432x288 with 1 Axes>"
            ]
          },
          "metadata": {
            "tags": [],
            "needs_background": "light"
          }
        }
      ]
    },
    {
      "cell_type": "code",
      "metadata": {
        "id": "J4hW6NvcWZNF"
      },
      "source": [
        "import numpy as np"
      ],
      "execution_count": 10,
      "outputs": []
    },
    {
      "cell_type": "code",
      "metadata": {
        "id": "KektR243U0Gk"
      },
      "source": [
        "from sklearn.preprocessing import MinMaxScaler\n",
        "scaler=MinMaxScaler(feature_range=(0,1))\n",
        "df1=scaler.fit_transform(np.array(df1).reshape(-1,1))"
      ],
      "execution_count": 11,
      "outputs": []
    },
    {
      "cell_type": "code",
      "metadata": {
        "colab": {
          "base_uri": "https://localhost:8080/"
        },
        "id": "i5hPi1HPWVad",
        "outputId": "54acb9a8-3a9b-4a74-86b2-1dee96335f31"
      },
      "source": [
        "df1[10,0]"
      ],
      "execution_count": 26,
      "outputs": [
        {
          "output_type": "execute_result",
          "data": {
            "text/plain": [
              "0.16271215063750738"
            ]
          },
          "metadata": {
            "tags": []
          },
          "execution_count": 26
        }
      ]
    },
    {
      "cell_type": "code",
      "metadata": {
        "id": "Pacw6eIpZTSl"
      },
      "source": [
        "def train_test_split(df,p):\n",
        "  sz=int(len(df)*p)\n",
        "  training=df[:sz]\n",
        "  test=df[sz:]\n",
        "\n",
        "  return training,test"
      ],
      "execution_count": 24,
      "outputs": []
    },
    {
      "cell_type": "code",
      "metadata": {
        "id": "_yHVZASSaNl8"
      },
      "source": [
        "x1,x2=train_test_split(df1,0.65)"
      ],
      "execution_count": 25,
      "outputs": []
    },
    {
      "cell_type": "code",
      "metadata": {
        "id": "YMVNc0M-aSvy"
      },
      "source": [
        "def make_series(a,steps=1):\n",
        "  b=[]\n",
        "  c=[]\n",
        "  for i in range(len(a)-steps):\n",
        "    b.append(a[i:i+steps,0])\n",
        "    c.append(a[i+steps,0])\n",
        "  \n",
        "  return np.array(b),np.array(c)"
      ],
      "execution_count": 30,
      "outputs": []
    },
    {
      "cell_type": "code",
      "metadata": {
        "id": "Ir-4cIPucLG6"
      },
      "source": [
        "steps=100"
      ],
      "execution_count": 35,
      "outputs": []
    },
    {
      "cell_type": "code",
      "metadata": {
        "id": "J_GznByib2su"
      },
      "source": [
        "X_train,y_train=make_series(x1,steps)"
      ],
      "execution_count": 36,
      "outputs": []
    },
    {
      "cell_type": "code",
      "metadata": {
        "id": "StZhWWjzcBrr"
      },
      "source": [
        "X_test,y_test=make_series(x2,steps)"
      ],
      "execution_count": 38,
      "outputs": []
    },
    {
      "cell_type": "code",
      "metadata": {
        "colab": {
          "base_uri": "https://localhost:8080/"
        },
        "id": "bksomAJFcKGK",
        "outputId": "97c43560-3437-42a0-cd23-df585710bf1e"
      },
      "source": [
        "X_train.shape"
      ],
      "execution_count": 39,
      "outputs": [
        {
          "output_type": "execute_result",
          "data": {
            "text/plain": [
              "(717, 100)"
            ]
          },
          "metadata": {
            "tags": []
          },
          "execution_count": 39
        }
      ]
    },
    {
      "cell_type": "code",
      "metadata": {
        "colab": {
          "base_uri": "https://localhost:8080/"
        },
        "id": "0NTBTeN9cVhn",
        "outputId": "3c9be569-d03b-481b-8f88-787033d23fdc"
      },
      "source": [
        "y_train.shape"
      ],
      "execution_count": 40,
      "outputs": [
        {
          "output_type": "execute_result",
          "data": {
            "text/plain": [
              "(717,)"
            ]
          },
          "metadata": {
            "tags": []
          },
          "execution_count": 40
        }
      ]
    },
    {
      "cell_type": "code",
      "metadata": {
        "id": "eYxE-ovYcXU0"
      },
      "source": [
        "X_train=X_train.reshape(X_train.shape[0],X_train.shape[1],1)\n",
        "X_test=X_test.reshape(X_test.shape[0],X_test.shape[1],1)"
      ],
      "execution_count": 41,
      "outputs": []
    },
    {
      "cell_type": "code",
      "metadata": {
        "id": "VynSuhyzc03A"
      },
      "source": [
        "import tensorflow as tf"
      ],
      "execution_count": 42,
      "outputs": []
    },
    {
      "cell_type": "code",
      "metadata": {
        "id": "RULSeCtedS74"
      },
      "source": [
        "from tensorflow.keras.layers import Embedding,LSTM,DenseFeatures,Dense\n",
        "from tensorflow.keras.models import Sequential"
      ],
      "execution_count": 45,
      "outputs": []
    },
    {
      "cell_type": "code",
      "metadata": {
        "colab": {
          "base_uri": "https://localhost:8080/"
        },
        "id": "zolexchmdVbj",
        "outputId": "ff6bcf63-f666-45a4-d1f2-9c53022557e7"
      },
      "source": [
        "m=Sequential()\n",
        "m.add(LSTM(50,return_sequences=True,input_shape=(X_train.shape[1],1)))\n",
        "m.add(LSTM(50,return_sequences=True))\n",
        "m.add(LSTM(50))\n",
        "m.add(Dense(1))\n",
        "m.compile(loss='mean_squared_error',optimizer='adam')\n",
        "print(m.summary())"
      ],
      "execution_count": 46,
      "outputs": [
        {
          "output_type": "stream",
          "text": [
            "Model: \"sequential_1\"\n",
            "_________________________________________________________________\n",
            "Layer (type)                 Output Shape              Param #   \n",
            "=================================================================\n",
            "lstm_3 (LSTM)                (None, 100, 50)           10400     \n",
            "_________________________________________________________________\n",
            "lstm_4 (LSTM)                (None, 100, 50)           20200     \n",
            "_________________________________________________________________\n",
            "lstm_5 (LSTM)                (None, 50)                20200     \n",
            "_________________________________________________________________\n",
            "dense (Dense)                (None, 1)                 51        \n",
            "=================================================================\n",
            "Total params: 50,851\n",
            "Trainable params: 50,851\n",
            "Non-trainable params: 0\n",
            "_________________________________________________________________\n",
            "None\n"
          ],
          "name": "stdout"
        }
      ]
    },
    {
      "cell_type": "code",
      "metadata": {
        "colab": {
          "base_uri": "https://localhost:8080/"
        },
        "id": "em1rKaNUd_wS",
        "outputId": "fd6808f3-239f-4b48-9e2a-965d1239c602"
      },
      "source": [
        "m.fit(X_train,y_train,validation_data=(X_test,y_test),epochs=100,batch_size=64)"
      ],
      "execution_count": 47,
      "outputs": [
        {
          "output_type": "stream",
          "text": [
            "Epoch 1/100\n",
            "12/12 [==============================] - 8s 293ms/step - loss: 0.0230 - val_loss: 0.0418\n",
            "Epoch 2/100\n",
            "12/12 [==============================] - 2s 184ms/step - loss: 0.0043 - val_loss: 0.0052\n",
            "Epoch 3/100\n",
            "12/12 [==============================] - 2s 181ms/step - loss: 0.0015 - val_loss: 0.0043\n",
            "Epoch 4/100\n",
            "12/12 [==============================] - 2s 183ms/step - loss: 7.8122e-04 - val_loss: 0.0041\n",
            "Epoch 5/100\n",
            "12/12 [==============================] - 2s 184ms/step - loss: 6.1505e-04 - val_loss: 0.0039\n",
            "Epoch 6/100\n",
            "12/12 [==============================] - 2s 183ms/step - loss: 5.9758e-04 - val_loss: 0.0038\n",
            "Epoch 7/100\n",
            "12/12 [==============================] - 2s 184ms/step - loss: 5.9061e-04 - val_loss: 0.0039\n",
            "Epoch 8/100\n",
            "12/12 [==============================] - 2s 183ms/step - loss: 5.8771e-04 - val_loss: 0.0036\n",
            "Epoch 9/100\n",
            "12/12 [==============================] - 2s 184ms/step - loss: 6.0103e-04 - val_loss: 0.0037\n",
            "Epoch 10/100\n",
            "12/12 [==============================] - 2s 184ms/step - loss: 5.9703e-04 - val_loss: 0.0034\n",
            "Epoch 11/100\n",
            "12/12 [==============================] - 2s 184ms/step - loss: 5.6062e-04 - val_loss: 0.0034\n",
            "Epoch 12/100\n",
            "12/12 [==============================] - 2s 184ms/step - loss: 5.6413e-04 - val_loss: 0.0033\n",
            "Epoch 13/100\n",
            "12/12 [==============================] - 2s 194ms/step - loss: 5.4103e-04 - val_loss: 0.0032\n",
            "Epoch 14/100\n",
            "12/12 [==============================] - 2s 196ms/step - loss: 5.3801e-04 - val_loss: 0.0031\n",
            "Epoch 15/100\n",
            "12/12 [==============================] - 2s 186ms/step - loss: 5.3377e-04 - val_loss: 0.0031\n",
            "Epoch 16/100\n",
            "12/12 [==============================] - 2s 187ms/step - loss: 5.3935e-04 - val_loss: 0.0030\n",
            "Epoch 17/100\n",
            "12/12 [==============================] - 2s 187ms/step - loss: 5.1742e-04 - val_loss: 0.0029\n",
            "Epoch 18/100\n",
            "12/12 [==============================] - 2s 193ms/step - loss: 5.1014e-04 - val_loss: 0.0030\n",
            "Epoch 19/100\n",
            "12/12 [==============================] - 2s 185ms/step - loss: 5.2152e-04 - val_loss: 0.0032\n",
            "Epoch 20/100\n",
            "12/12 [==============================] - 2s 186ms/step - loss: 5.4148e-04 - val_loss: 0.0032\n",
            "Epoch 21/100\n",
            "12/12 [==============================] - 2s 186ms/step - loss: 5.7166e-04 - val_loss: 0.0026\n",
            "Epoch 22/100\n",
            "12/12 [==============================] - 2s 187ms/step - loss: 4.7489e-04 - val_loss: 0.0025\n",
            "Epoch 23/100\n",
            "12/12 [==============================] - 2s 184ms/step - loss: 4.7529e-04 - val_loss: 0.0025\n",
            "Epoch 24/100\n",
            "12/12 [==============================] - 2s 186ms/step - loss: 4.8357e-04 - val_loss: 0.0025\n",
            "Epoch 25/100\n",
            "12/12 [==============================] - 2s 184ms/step - loss: 4.8258e-04 - val_loss: 0.0023\n",
            "Epoch 26/100\n",
            "12/12 [==============================] - 2s 183ms/step - loss: 4.4446e-04 - val_loss: 0.0023\n",
            "Epoch 27/100\n",
            "12/12 [==============================] - 2s 185ms/step - loss: 4.5154e-04 - val_loss: 0.0021\n",
            "Epoch 28/100\n",
            "12/12 [==============================] - 2s 187ms/step - loss: 4.3851e-04 - val_loss: 0.0022\n",
            "Epoch 29/100\n",
            "12/12 [==============================] - 2s 182ms/step - loss: 4.5121e-04 - val_loss: 0.0021\n",
            "Epoch 30/100\n",
            "12/12 [==============================] - 2s 181ms/step - loss: 4.6335e-04 - val_loss: 0.0019\n",
            "Epoch 31/100\n",
            "12/12 [==============================] - 2s 191ms/step - loss: 4.4477e-04 - val_loss: 0.0023\n",
            "Epoch 32/100\n",
            "12/12 [==============================] - 2s 191ms/step - loss: 4.4671e-04 - val_loss: 0.0019\n",
            "Epoch 33/100\n",
            "12/12 [==============================] - 2s 190ms/step - loss: 4.4960e-04 - val_loss: 0.0018\n",
            "Epoch 34/100\n",
            "12/12 [==============================] - 2s 190ms/step - loss: 4.4271e-04 - val_loss: 0.0025\n",
            "Epoch 35/100\n",
            "12/12 [==============================] - 2s 188ms/step - loss: 4.8158e-04 - val_loss: 0.0019\n",
            "Epoch 36/100\n",
            "12/12 [==============================] - 2s 186ms/step - loss: 4.3580e-04 - val_loss: 0.0017\n",
            "Epoch 37/100\n",
            "12/12 [==============================] - 2s 193ms/step - loss: 3.7909e-04 - val_loss: 0.0017\n",
            "Epoch 38/100\n",
            "12/12 [==============================] - 2s 184ms/step - loss: 3.6506e-04 - val_loss: 0.0017\n",
            "Epoch 39/100\n",
            "12/12 [==============================] - 2s 188ms/step - loss: 3.7574e-04 - val_loss: 0.0015\n",
            "Epoch 40/100\n",
            "12/12 [==============================] - 2s 194ms/step - loss: 3.6410e-04 - val_loss: 0.0015\n",
            "Epoch 41/100\n",
            "12/12 [==============================] - 2s 188ms/step - loss: 3.4482e-04 - val_loss: 0.0015\n",
            "Epoch 42/100\n",
            "12/12 [==============================] - 2s 189ms/step - loss: 3.4296e-04 - val_loss: 0.0018\n",
            "Epoch 43/100\n",
            "12/12 [==============================] - 2s 186ms/step - loss: 3.5539e-04 - val_loss: 0.0016\n",
            "Epoch 44/100\n",
            "12/12 [==============================] - 2s 190ms/step - loss: 3.3679e-04 - val_loss: 0.0014\n",
            "Epoch 45/100\n",
            "12/12 [==============================] - 2s 190ms/step - loss: 3.2953e-04 - val_loss: 0.0015\n",
            "Epoch 46/100\n",
            "12/12 [==============================] - 2s 187ms/step - loss: 3.5436e-04 - val_loss: 0.0019\n",
            "Epoch 47/100\n",
            "12/12 [==============================] - 2s 200ms/step - loss: 3.1325e-04 - val_loss: 0.0015\n",
            "Epoch 48/100\n",
            "12/12 [==============================] - 2s 191ms/step - loss: 2.9933e-04 - val_loss: 0.0013\n",
            "Epoch 49/100\n",
            "12/12 [==============================] - 2s 186ms/step - loss: 2.9966e-04 - val_loss: 0.0017\n",
            "Epoch 50/100\n",
            "12/12 [==============================] - 2s 186ms/step - loss: 3.0288e-04 - val_loss: 0.0014\n",
            "Epoch 51/100\n",
            "12/12 [==============================] - 2s 189ms/step - loss: 3.2312e-04 - val_loss: 0.0019\n",
            "Epoch 52/100\n",
            "12/12 [==============================] - 2s 184ms/step - loss: 2.9016e-04 - val_loss: 0.0013\n",
            "Epoch 53/100\n",
            "12/12 [==============================] - 2s 187ms/step - loss: 2.8688e-04 - val_loss: 0.0013\n",
            "Epoch 54/100\n",
            "12/12 [==============================] - 2s 196ms/step - loss: 2.9018e-04 - val_loss: 0.0022\n",
            "Epoch 55/100\n",
            "12/12 [==============================] - 2s 187ms/step - loss: 3.0663e-04 - val_loss: 0.0013\n",
            "Epoch 56/100\n",
            "12/12 [==============================] - 2s 187ms/step - loss: 2.9960e-04 - val_loss: 0.0013\n",
            "Epoch 57/100\n",
            "12/12 [==============================] - 2s 191ms/step - loss: 2.5485e-04 - val_loss: 0.0013\n",
            "Epoch 58/100\n",
            "12/12 [==============================] - 2s 192ms/step - loss: 2.7409e-04 - val_loss: 0.0018\n",
            "Epoch 59/100\n",
            "12/12 [==============================] - 2s 186ms/step - loss: 2.7574e-04 - val_loss: 0.0014\n",
            "Epoch 60/100\n",
            "12/12 [==============================] - 2s 195ms/step - loss: 2.5173e-04 - val_loss: 0.0019\n",
            "Epoch 61/100\n",
            "12/12 [==============================] - 2s 186ms/step - loss: 2.3659e-04 - val_loss: 0.0012\n",
            "Epoch 62/100\n",
            "12/12 [==============================] - 2s 188ms/step - loss: 2.4442e-04 - val_loss: 0.0023\n",
            "Epoch 63/100\n",
            "12/12 [==============================] - 2s 190ms/step - loss: 2.5220e-04 - val_loss: 0.0012\n",
            "Epoch 64/100\n",
            "12/12 [==============================] - 2s 188ms/step - loss: 2.2379e-04 - val_loss: 0.0013\n",
            "Epoch 65/100\n",
            "12/12 [==============================] - 2s 196ms/step - loss: 2.3650e-04 - val_loss: 0.0011\n",
            "Epoch 66/100\n",
            "12/12 [==============================] - 2s 189ms/step - loss: 2.2845e-04 - val_loss: 0.0012\n",
            "Epoch 67/100\n",
            "12/12 [==============================] - 2s 187ms/step - loss: 2.1313e-04 - val_loss: 0.0013\n",
            "Epoch 68/100\n",
            "12/12 [==============================] - 2s 186ms/step - loss: 2.0651e-04 - val_loss: 0.0011\n",
            "Epoch 69/100\n",
            "12/12 [==============================] - 2s 188ms/step - loss: 2.0451e-04 - val_loss: 0.0011\n",
            "Epoch 70/100\n",
            "12/12 [==============================] - 2s 190ms/step - loss: 2.0270e-04 - val_loss: 0.0011\n",
            "Epoch 71/100\n",
            "12/12 [==============================] - 2s 196ms/step - loss: 2.1767e-04 - val_loss: 0.0011\n",
            "Epoch 72/100\n",
            "12/12 [==============================] - 2s 188ms/step - loss: 2.0538e-04 - val_loss: 0.0013\n",
            "Epoch 73/100\n",
            "12/12 [==============================] - 2s 193ms/step - loss: 2.1357e-04 - val_loss: 0.0011\n",
            "Epoch 74/100\n",
            "12/12 [==============================] - 2s 191ms/step - loss: 2.0393e-04 - val_loss: 0.0014\n",
            "Epoch 75/100\n",
            "12/12 [==============================] - 2s 187ms/step - loss: 3.1177e-04 - val_loss: 0.0037\n",
            "Epoch 76/100\n",
            "12/12 [==============================] - 2s 191ms/step - loss: 2.4152e-04 - val_loss: 0.0011\n",
            "Epoch 77/100\n",
            "12/12 [==============================] - 2s 192ms/step - loss: 1.9235e-04 - val_loss: 0.0010\n",
            "Epoch 78/100\n",
            "12/12 [==============================] - 2s 196ms/step - loss: 1.8439e-04 - val_loss: 0.0012\n",
            "Epoch 79/100\n",
            "12/12 [==============================] - 2s 193ms/step - loss: 1.8737e-04 - val_loss: 0.0010\n",
            "Epoch 80/100\n",
            "12/12 [==============================] - 2s 197ms/step - loss: 1.7475e-04 - val_loss: 0.0010\n",
            "Epoch 81/100\n",
            "12/12 [==============================] - 2s 198ms/step - loss: 1.6446e-04 - val_loss: 9.2687e-04\n",
            "Epoch 82/100\n",
            "12/12 [==============================] - 2s 193ms/step - loss: 1.6412e-04 - val_loss: 9.1628e-04\n",
            "Epoch 83/100\n",
            "12/12 [==============================] - 2s 193ms/step - loss: 1.6456e-04 - val_loss: 0.0011\n",
            "Epoch 84/100\n",
            "12/12 [==============================] - 2s 191ms/step - loss: 1.9101e-04 - val_loss: 9.0603e-04\n",
            "Epoch 85/100\n",
            "12/12 [==============================] - 2s 190ms/step - loss: 1.9420e-04 - val_loss: 0.0012\n",
            "Epoch 86/100\n",
            "12/12 [==============================] - 2s 190ms/step - loss: 1.6416e-04 - val_loss: 8.9157e-04\n",
            "Epoch 87/100\n",
            "12/12 [==============================] - 2s 191ms/step - loss: 1.5091e-04 - val_loss: 9.5960e-04\n",
            "Epoch 88/100\n",
            "12/12 [==============================] - 2s 193ms/step - loss: 1.5442e-04 - val_loss: 8.9551e-04\n",
            "Epoch 89/100\n",
            "12/12 [==============================] - 2s 190ms/step - loss: 1.5506e-04 - val_loss: 8.4966e-04\n",
            "Epoch 90/100\n",
            "12/12 [==============================] - 2s 192ms/step - loss: 1.8342e-04 - val_loss: 0.0017\n",
            "Epoch 91/100\n",
            "12/12 [==============================] - 2s 199ms/step - loss: 2.0804e-04 - val_loss: 8.3943e-04\n",
            "Epoch 92/100\n",
            "12/12 [==============================] - 2s 188ms/step - loss: 1.7502e-04 - val_loss: 0.0011\n",
            "Epoch 93/100\n",
            "12/12 [==============================] - 2s 189ms/step - loss: 1.5907e-04 - val_loss: 0.0010\n",
            "Epoch 94/100\n",
            "12/12 [==============================] - 2s 192ms/step - loss: 1.7056e-04 - val_loss: 8.6132e-04\n",
            "Epoch 95/100\n",
            "12/12 [==============================] - 2s 189ms/step - loss: 1.4191e-04 - val_loss: 8.1427e-04\n",
            "Epoch 96/100\n",
            "12/12 [==============================] - 2s 190ms/step - loss: 1.4463e-04 - val_loss: 9.8100e-04\n",
            "Epoch 97/100\n",
            "12/12 [==============================] - 2s 193ms/step - loss: 1.4873e-04 - val_loss: 9.2664e-04\n",
            "Epoch 98/100\n",
            "12/12 [==============================] - 2s 188ms/step - loss: 1.3985e-04 - val_loss: 9.6379e-04\n",
            "Epoch 99/100\n",
            "12/12 [==============================] - 2s 190ms/step - loss: 1.4289e-04 - val_loss: 7.8366e-04\n",
            "Epoch 100/100\n",
            "12/12 [==============================] - 2s 190ms/step - loss: 1.4129e-04 - val_loss: 7.7910e-04\n"
          ],
          "name": "stdout"
        },
        {
          "output_type": "execute_result",
          "data": {
            "text/plain": [
              "<tensorflow.python.keras.callbacks.History at 0x7fb80441e490>"
            ]
          },
          "metadata": {
            "tags": []
          },
          "execution_count": 47
        }
      ]
    },
    {
      "cell_type": "code",
      "metadata": {
        "id": "wuY5xY9ZeTEj"
      },
      "source": [
        "train_pred=m.predict(X_train)\n",
        "test_pred=m.predict(X_test)"
      ],
      "execution_count": 48,
      "outputs": []
    },
    {
      "cell_type": "code",
      "metadata": {
        "id": "bWmcBA67fUjQ"
      },
      "source": [
        "train_pred=scaler.inverse_transform(train_pred)\n",
        "test_pred=scaler.inverse_transform(test_pred)"
      ],
      "execution_count": 50,
      "outputs": []
    },
    {
      "cell_type": "code",
      "metadata": {
        "colab": {
          "base_uri": "https://localhost:8080/"
        },
        "id": "2RFAmHWZe9Zi",
        "outputId": "7696df65-b8c3-465e-b160-6646956a6a7d"
      },
      "source": [
        "import math\n",
        "from sklearn.metrics import mean_squared_error\n",
        "math.sqrt(mean_squared_error(y_train,train_pred))"
      ],
      "execution_count": 51,
      "outputs": [
        {
          "output_type": "execute_result",
          "data": {
            "text/plain": [
              "142.71877494623692"
            ]
          },
          "metadata": {
            "tags": []
          },
          "execution_count": 51
        }
      ]
    },
    {
      "cell_type": "code",
      "metadata": {
        "colab": {
          "base_uri": "https://localhost:8080/"
        },
        "id": "KcKZYGZqfQuc",
        "outputId": "165ba672-a6fd-4da1-d15d-f570ddd916f8"
      },
      "source": [
        "math.sqrt(mean_squared_error(y_test,test_pred))"
      ],
      "execution_count": 52,
      "outputs": [
        {
          "output_type": "execute_result",
          "data": {
            "text/plain": [
              "239.03410939460744"
            ]
          },
          "metadata": {
            "tags": []
          },
          "execution_count": 52
        }
      ]
    },
    {
      "cell_type": "code",
      "metadata": {
        "colab": {
          "base_uri": "https://localhost:8080/",
          "height": 282
        },
        "id": "ualOoCVvffml",
        "outputId": "05535182-934c-48d1-edd6-74b26381a03b"
      },
      "source": [
        "trainPredictPlot=np.empty_like(df1)\n",
        "trainPredictPlot[:,:]=np.nan\n",
        "for i in range(steps,steps+len(train_pred)):\n",
        "  trainPredictPlot[i]=train_pred[i-steps]\n",
        "\n",
        "testPredictPlot=np.empty_like(df1)\n",
        "testPredictPlot[:,:]=np.nan\n",
        "for i in range(steps,steps+len(test_pred)):\n",
        "  testPredictPlot[i+len(X_train)+steps]=test_pred[i-steps]\n",
        "\n",
        "plt.plot(scaler.inverse_transform(df1))\n",
        "plt.plot(trainPredictPlot)\n",
        "plt.plot(testPredictPlot)"
      ],
      "execution_count": 81,
      "outputs": [
        {
          "output_type": "execute_result",
          "data": {
            "text/plain": [
              "[<matplotlib.lines.Line2D at 0x7fb804425e50>]"
            ]
          },
          "metadata": {
            "tags": []
          },
          "execution_count": 81
        },
        {
          "output_type": "display_data",
          "data": {
            "image/png": "[encoded data removed]",
            "text/plain": [
              "<Figure size 432x288 with 1 Axes>"
            ]
          },
          "metadata": {
            "tags": [],
            "needs_background": "light"
          }
        }
      ]
    }
  ]
}